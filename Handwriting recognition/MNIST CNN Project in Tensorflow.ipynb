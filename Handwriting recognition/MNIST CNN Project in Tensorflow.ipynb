{
 "cells": [
  {
   "cell_type": "markdown",
   "metadata": {},
   "source": [
    "# MNIST Digital Classification in Tensorflow"
   ]
  },
  {
   "cell_type": "markdown",
   "metadata": {},
   "source": [
    "### Stan Liu"
   ]
  },
  {
   "cell_type": "markdown",
   "metadata": {},
   "source": [
    "#### 29/07/2018"
   ]
  },
  {
   "cell_type": "markdown",
   "metadata": {},
   "source": [
    "- #### 1.Introduction\n",
    "- #### 2.Data preparation\n",
    "    - 2.1 Load data and packages\n",
    "    - 2.2 Check for null and missing values\n",
    "    - 2.3 Nomolization\n",
    "    - 2.4 Label encoding\n",
    "    - 2.5 Split training and validation set\n",
    "- #### 3.CNN building and training\n",
    "    - 3.1 Define the model\n",
    "    - 3.2 Set parameters\n",
    "    - 3.3 Ensemble computation graph\n",
    "    - 3.4 Set loss function and optimizer\n",
    "    - 3.5 Model Training\n",
    "- #### 4.Evaluate the model\n",
    "    - 4.1 Training and validation curves\n",
    "    - 4.2 Accuracy\n",
    "    - 4.3 Confusion matrix\n",
    "- #### 5.Prediction and submition\n",
    "    - 5.1 Predict single digit\n",
    "    - 5.2 Submit results"
   ]
  },
  {
   "cell_type": "markdown",
   "metadata": {},
   "source": [
    "## 1. Introduction"
   ]
  },
  {
   "cell_type": "markdown",
   "metadata": {},
   "source": [
    "This is a 5 layers Sequential Convolutional Neural Network for digits recognition trained on MNIST dataset. I choosed to build it with keras API (Tensorflow backend) which is very intuitive. Firstly, I will prepare the data (handwritten digits images) then i will focus on the CNN modeling and evaluation.\n",
    "\n",
    "I achieved 97.671% of accuracy with this CNN trained in 20min on a double CPU (i5-5200U). For those who have a >= 3.0 GPU capabilites (from GTX 650 - to recent GPUs), you can use tensorflow-gpu with keras. Computation will be much much faster !!!\n",
    "\n",
    "For computational reasons, i set the number of steps (epochs) to 2, if you want to achieve 99+% of accuracy set it to a larger number.\n",
    "\n",
    "This Notebook follows three main parts:\n",
    "\n",
    "The data preparation\n",
    "The CNN modeling and evaluation\n",
    "The results prediction and submission"
   ]
  },
  {
   "cell_type": "markdown",
   "metadata": {},
   "source": [
    "## 2. Data preparation"
   ]
  },
  {
   "cell_type": "markdown",
   "metadata": {},
   "source": [
    "### 2.1 Load data and packages"
   ]
  },
  {
   "cell_type": "code",
   "execution_count": 3,
   "metadata": {},
   "outputs": [],
   "source": [
    "import tensorflow as tf\n",
    "import numpy as np\n",
    "import pandas as pd\n",
    "import matplotlib.pyplot as plt\n",
    "import seaborn as sns\n",
    "%matplotlib inline\n",
    "import itertools\n",
    "#from tensorflow.image import ResizeMethod\n",
    "\n",
    "np.random.seed(1)\n",
    "\n",
    "from sklearn.model_selection import train_test_split\n",
    "from sklearn.metrics import confusion_matrix\n",
    "from sklearn.metrics import accuracy_score\n",
    "from sklearn.preprocessing import LabelEncoder\n",
    "\n",
    "sns.set(style='white', context='notebook', palette='deep')"
   ]
  },
  {
   "cell_type": "code",
   "execution_count": 4,
   "metadata": {},
   "outputs": [],
   "source": [
    "# Load the data\n",
    "train = pd.read_csv(\"./train.csv\")\n",
    "test = pd.read_csv(\"./test.csv\")"
   ]
  },
  {
   "cell_type": "code",
   "execution_count": 5,
   "metadata": {},
   "outputs": [
    {
     "data": {
      "text/plain": [
       "1    4684\n",
       "7    4401\n",
       "3    4351\n",
       "9    4188\n",
       "2    4177\n",
       "6    4137\n",
       "0    4132\n",
       "4    4072\n",
       "8    4063\n",
       "5    3795\n",
       "Name: label, dtype: int64"
      ]
     },
     "execution_count": 5,
     "metadata": {},
     "output_type": "execute_result"
    },
    {
     "data": {
      "image/png": "[encoded data removed]",
      "text/plain": [
       "<Figure size 432x288 with 1 Axes>"
      ]
     },
     "metadata": {},
     "output_type": "display_data"
    }
   ],
   "source": [
    "Y_train = train['label']\n",
    "\n",
    "# Drop 'label' column\n",
    "X_train = train.drop(labels = ['label'], axis = 1)\n",
    "\n",
    "# Free some place\n",
    "del train\n",
    "\n",
    "g = sns.countplot(Y_train)\n",
    "\n",
    "Y_train.value_counts()"
   ]
  },
  {
   "cell_type": "markdown",
   "metadata": {},
   "source": [
    "Here we find there's no imbalance problem. Each kind of label counts similarly"
   ]
  },
  {
   "cell_type": "markdown",
   "metadata": {},
   "source": [
    "### 2.2 Check for null and missing values"
   ]
  },
  {
   "cell_type": "code",
   "execution_count": 6,
   "metadata": {},
   "outputs": [
    {
     "data": {
      "text/plain": [
       "count       784\n",
       "unique        1\n",
       "top       False\n",
       "freq        784\n",
       "dtype: object"
      ]
     },
     "execution_count": 6,
     "metadata": {},
     "output_type": "execute_result"
    }
   ],
   "source": [
    "# Check the data\n",
    "X_train.isnull().any().describe()"
   ]
  },
  {
   "cell_type": "code",
   "execution_count": 7,
   "metadata": {},
   "outputs": [
    {
     "data": {
      "text/plain": [
       "count       784\n",
       "unique        1\n",
       "top       False\n",
       "freq        784\n",
       "dtype: object"
      ]
     },
     "execution_count": 7,
     "metadata": {},
     "output_type": "execute_result"
    }
   ],
   "source": [
    "test.isnull().any().describe()"
   ]
  },
  {
   "cell_type": "markdown",
   "metadata": {},
   "source": [
    "There is no missing values in the train and test dataset. So we can safely go ahead"
   ]
  },
  {
   "cell_type": "markdown",
   "metadata": {},
   "source": [
    "### 2.3 Normalization"
   ]
  },
  {
   "cell_type": "markdown",
   "metadata": {},
   "source": [
    "Perform a greyscale normalization to reduce the effect of illumination's differences."
   ]
  },
  {
   "cell_type": "code",
   "execution_count": 8,
   "metadata": {},
   "outputs": [],
   "source": [
    "# Normalize the data\n",
    "X_train = X_train / 255.0\n",
    "test = test / 255.0\n",
    "\n",
    "# We retract the values of X_Train and test, obtaining np array\n",
    "X_train = X_train.values\n",
    "test = test.values\n",
    "Y_train = Y_train.values"
   ]
  },
  {
   "cell_type": "markdown",
   "metadata": {},
   "source": [
    "### 2.4 Label encoding"
   ]
  },
  {
   "cell_type": "code",
   "execution_count": 9,
   "metadata": {},
   "outputs": [],
   "source": [
    "# Encode labels to one hot vectors (ex : 2 -> [0,0,1,0,0,0,0,0,0,0])\n",
    "Y_train = pd.get_dummies(Y_train).values"
   ]
  },
  {
   "cell_type": "markdown",
   "metadata": {},
   "source": [
    "### 2.5 Split training and validation set"
   ]
  },
  {
   "cell_type": "code",
   "execution_count": 10,
   "metadata": {},
   "outputs": [],
   "source": [
    "# Set the random seed\n",
    "random_seed = 2"
   ]
  },
  {
   "cell_type": "code",
   "execution_count": 11,
   "metadata": {},
   "outputs": [],
   "source": [
    "# Split the train and the validation set for fitting\n",
    "X_train_input, X_val_input, Y_train_input, Y_val_input = train_test_split(X_train, Y_train, test_size = 0.1, random_state=random_seed)"
   ]
  },
  {
   "cell_type": "markdown",
   "metadata": {},
   "source": [
    "Here to split the train set in two parts : a small fraction (10%) became the validation set which the model is evaluated and the rest (90%) is used to train the model.\n",
    "\n",
    "Since we have 42 000 training images of balanced labels (see 2.1 Load data), a random split of the train set doesn't cause some labels to be over represented in the validation set. \n",
    "\n",
    "We can get a better sense for one of these examples by visualising the image and looking at the label."
   ]
  },
  {
   "cell_type": "code",
   "execution_count": 12,
   "metadata": {
    "scrolled": true
   },
   "outputs": [
    {
     "data": {
      "image/png": "[encoded data removed]",
      "text/plain": [
       "<Figure size 432x288 with 1 Axes>"
      ]
     },
     "metadata": {},
     "output_type": "display_data"
    }
   ],
   "source": [
    "# Some examples\n",
    "expl = plt.imshow(X_train_input[0].reshape(28,28))"
   ]
  },
  {
   "cell_type": "markdown",
   "metadata": {},
   "source": [
    "## 3. CNN building and training"
   ]
  },
  {
   "cell_type": "markdown",
   "metadata": {},
   "source": [
    "### 3.1 Define the model"
   ]
  },
  {
   "cell_type": "markdown",
   "metadata": {},
   "source": [
    "I used the Tensorflow, where you have to define and build the complete computation graph before training start.\n",
    "\n",
    "Let's start from the input. We first need to reshape the input X into a tensor X1 with a shape ( ?, 28, 28, 1 ) so that it can be filtered.\n",
    "\n",
    "Then the first important layer is the convolutional (tf.nn.conv2d) layer. It is like a set of learnable filters. I choosed to set 24 filters the first convolutional (tf.nn.conv2d) layer. Each filter transforms a part of the image (defined by the kernel size) using the kernel filter. The kernel filter matrix is applied on the whole image. Filters can be seen as a transformation of the image.\n",
    "\n",
    "The CNN can isolate features that are useful everywhere from these transformed images (feature maps).\n",
    "\n",
    "The second important layer in CNN is the pooling (tf.layers.max_pooling2d) layer. This layer simply acts as a downsampling filter. It looks at the 2 neighboring pixels and picks the maximal value. These are used to reduce computational cost, and to some extent also reduce overfitting. Here I carefully choose the pooling size (i.e the area size pooled each time) to be small. \n",
    "\n",
    "Combining convolutional and pooling layers, CNN are able to combine local features and learn more global features of the image.\n",
    "\n",
    "Dropout is a regularization method, where a proportion of nodes in the layer are randomly ignored (setting their wieghts to zero) for each training sample. This drops randomly a propotion of the network and forces the network to learn features in a distributed way. This technique also improves generalization and reduces the overfitting.\n",
    "\n",
    "'relu' is the rectifier (activation function max(0,x). The rectifier activation function is used to add non linearity to the network.\n",
    "\n",
    "The Flatten layer is use to convert the final feature maps into a one single 1D vector. This flattening step is needed so that you can make use of fully connected layers after some convolutional/maxpool layers. It combines all the found local features of the previous convolutional layers.\n",
    "\n",
    "In the end i used the features in two fully-connected (Dense) layers which is just artificial an neural networks (ANN) classifier. In the last layer(Dense(10,activation=\"softmax\")) the net outputs distribution of probability of each class."
   ]
  },
  {
   "cell_type": "markdown",
   "metadata": {},
   "source": [
    "### 3.2 Set parameters"
   ]
  },
  {
   "cell_type": "code",
   "execution_count": 13,
   "metadata": {},
   "outputs": [],
   "source": [
    "# We first need to set a new conputation graph\n",
    "tf.reset_default_graph()\n",
    "\n",
    "# On the computation graph, we first need to define the paramaters\n",
    "\n",
    "# Creat a standard API for 2d arrays \n",
    "# We then define the inuts\n",
    "X = tf.placeholder(shape=(None, 784), dtype=tf.float32)\n",
    "Y = tf.placeholder(shape=(None, 10), dtype=tf.float32)\n",
    "keep_prob = tf.placeholder_with_default(tf.constant(0.75), shape=(), name=\"keep_prob\")\n",
    "# Here we use place holder in order to prevent the error input. If there is no input, tensorflow will find and use the value in the placeholder\n",
    "\n",
    "\n",
    "# Model parameters\n",
    "\n",
    "# Filters and rectify term for the first convolutional layer\n",
    "F1 = tf.get_variable(\"F1\", shape=(5, 5, 1, 32))\n",
    "b1 = tf.get_variable(\"b1\", shape=(28, 28, 32))\n",
    "# Filters and rectify term for the second convolutional layer\n",
    "F2 = tf.get_variable(\"F2\", shape=(5, 5, 32, 32))\n",
    "b2 = tf.get_variable(\"b2\", shape=(14, 14, 32))\n",
    "# Filters and rectify term for the third convolutional layer\n",
    "F3 = tf.get_variable(\"F3\", shape=(5, 5, 32, 24))\n",
    "b3 = tf.get_variable(\"b3\", shape=(7, 7, 24))\n",
    "# The weight and rectify term for hidden layer\n",
    "W_hidden = tf.get_variable(\"W_hidden\", shape=(7 * 7 * 24, 200))\n",
    "b_hidden = tf.get_variable(\"b_hidden\", shape=(200))\n",
    "# The weight and rectify term for output layer\n",
    "W_out = tf.get_variable(\"W_out\", shape=(200, 10))\n",
    "b_out = tf.get_variable(\"b_out\", shape=(10))\n",
    "\n"
   ]
  },
  {
   "cell_type": "markdown",
   "metadata": {},
   "source": [
    "### 3.3 Ensemble computation graph"
   ]
  },
  {
   "cell_type": "code",
   "execution_count": 14,
   "metadata": {},
   "outputs": [],
   "source": [
    "# Set the CNN model \n",
    "# My CNN architechture is In -> [Conv2D->relu -> MaxPool2D]*2 -> Conv2D->relu -> Flatten -> Dropout -> Dense -> Out\n",
    "\n",
    "# Build the model\n",
    "X1 = tf.reshape(X, (-1, 28, 28, 1))\n",
    "\n",
    "# First convolutional and maxpooling layer\n",
    "conv2D_1 = tf.nn.relu(tf.nn.conv2d(X1, F1, strides=(1, 1, 1, 1), padding='SAME') + b1)\n",
    "X2 = tf.layers.max_pooling2d(conv2D_1, pool_size=(2, 2), strides=(2, 2), padding='VALID')\n",
    "\n",
    "# Second convolutional and maxpooling layer\n",
    "conv2D_2 = tf.nn.relu(tf.nn.conv2d(X2, F2, strides=(1, 1, 1, 1), padding='SAME') + b2)\n",
    "X3 = tf.layers.max_pooling2d(conv2D_2, pool_size=(2, 2), strides=(2, 2), padding='VALID')\n",
    "\n",
    "# Third convolutional layer\n",
    "X4 = tf.nn.relu(tf.nn.conv2d(X3, F3, strides=(1, 1, 1, 1), padding='SAME') + b3)\n",
    "\n",
    "# Flatten layer\n",
    "Flatten_layer = tf.reshape(X4, (-1, 7 * 7 * 24))\n",
    "\n",
    "# Hidden layer\n",
    "hidden_layer = tf.nn.dropout(tf.matmul(Flatten_layer, W_hidden) + b_hidden, keep_prob=keep_prob)\n",
    "\n",
    "# Output layer\n",
    "prediction = tf.nn.softmax(tf.matmul(hidden_layer, W_out) + b_out, axis=1)\n",
    "\n",
    "#For metrics and hypterparameter justification\n",
    "match = tf.equal(tf.argmax(prediction, axis=1), tf.argmax(Y, axis=1))\n",
    "accuracy = tf.reduce_mean(tf.cast(match, tf.float32))"
   ]
  },
  {
   "cell_type": "markdown",
   "metadata": {},
   "source": [
    "### 3.4 Set loss function and optimizer"
   ]
  },
  {
   "cell_type": "markdown",
   "metadata": {},
   "source": [
    "Once our layers are added to the model, we need to set up a score function, a loss function and an optimisation algorithm.\n",
    "\n",
    "We define the loss function to measure how poorly our model performs on images with known labels. It is the error rate between the oberved labels and the predicted ones. We use a specific form for categorical classifications (>2 classes) called the \"categorical_crossentropy\".\n",
    "\n",
    "The most important function is the optimizer. This function will iteratively improve parameters (filters kernel values, weights and bias of neurons ...) in order to minimise the loss.\n",
    "\n",
    "I choosed Adam (with global learning rate as 0.001), it is a very effective optimizer. The Adam update adjusts the Adagrad method in a very simple way in an attempt to reduce its aggressive, monotonically decreasing learning rate. We could also have used Stochastic Gradient Descent ('sgd') optimizer, but it is slower than Adam.\n",
    "\n",
    "The metric function \"accuracy\" is used is to evaluate the performance our model. This metric function is similar to the loss function, except that the results from the metric evaluation are not used when training the model (only for evaluation)."
   ]
  },
  {
   "cell_type": "code",
   "execution_count": 15,
   "metadata": {},
   "outputs": [],
   "source": [
    "# The loss function\n",
    "cross_entropy = tf.reduce_mean(tf.reduce_sum(-Y * tf.log(prediction), axis=1))\n",
    "# Set optimizer\n",
    "optimizer = tf.train.AdamOptimizer(0.001)\n",
    "# Plug the loss function in the optimizer\n",
    "train_step = optimizer.minimize(cross_entropy)"
   ]
  },
  {
   "cell_type": "markdown",
   "metadata": {},
   "source": [
    "### 3.5 Model Training"
   ]
  },
  {
   "cell_type": "code",
   "execution_count": 16,
   "metadata": {},
   "outputs": [
    {
     "name": "stdout",
     "output_type": "stream",
     "text": [
      "1000 images processed...\n",
      "2000 images processed...\n",
      "3000 images processed...\n",
      "4000 images processed...\n",
      "5000 images processed...\n",
      "6000 images processed...\n",
      "7000 images processed...\n",
      "8000 images processed...\n",
      "9000 images processed...\n",
      "10000 images processed...\n",
      "11000 images processed...\n",
      "12000 images processed...\n",
      "13000 images processed...\n",
      "14000 images processed...\n",
      "15000 images processed...\n",
      "16000 images processed...\n",
      "17000 images processed...\n",
      "18000 images processed...\n",
      "19000 images processed...\n",
      "20000 images processed...\n",
      "21000 images processed...\n",
      "22000 images processed...\n",
      "23000 images processed...\n",
      "24000 images processed...\n",
      "25000 images processed...\n",
      "26000 images processed...\n",
      "27000 images processed...\n",
      "28000 images processed...\n",
      "29000 images processed...\n",
      "30000 images processed...\n",
      "31000 images processed...\n",
      "32000 images processed...\n",
      "33000 images processed...\n",
      "34000 images processed...\n",
      "35000 images processed...\n",
      "36000 images processed...\n",
      "37000 images processed...\n"
     ]
    }
   ],
   "source": [
    "sess = tf.Session()\n",
    "init = tf.global_variables_initializer()\n",
    "sess.run(init)\n",
    "\n",
    "\n",
    "#test_data_size = len(mnist.test.labels)\n",
    "batch_size = 100\n",
    "train_ce_curve = []\n",
    "validation_ce_curve = []\n",
    "train_accuracy_curve = []\n",
    "validation_accuracy_curve = []\n",
    "\n",
    "for i in range(378):\n",
    "    \n",
    "    steps = (i + 1) * batch_size\n",
    "    train_inputs = {X: X_train_input[i*batch_size:steps], Y: Y_train_input[i*batch_size:steps]}\n",
    "    sess.run(train_step, feed_dict=train_inputs)\n",
    "    \n",
    "    if steps % 200 == 0:  # Print some stats every 200 images processed.\n",
    "        # Train metrics\n",
    "        current_train_accuracy, current_train_ce = sess.run([accuracy, cross_entropy], feed_dict=train_inputs)\n",
    "        # Validation metrics. Just record validation metrics, if you want to use validation error to control stop, do it here.\n",
    "        validation_inputs = {X: X_val_input, Y: Y_val_input, keep_prob: 1.0}\n",
    "        current_validation_accuracy, current_validation_ce = sess.run([accuracy, cross_entropy], feed_dict=validation_inputs)\n",
    "                \n",
    "        train_ce_curve.append(current_train_ce)\n",
    "        validation_ce_curve.append(current_validation_ce)\n",
    "        train_accuracy_curve.append(current_train_accuracy)\n",
    "        validation_accuracy_curve.append(current_validation_accuracy)\n",
    "        \n",
    "        \n",
    "        if steps % 1000 == 0:\n",
    "            print(\"%d images processed...\" % steps)"
   ]
  },
  {
   "cell_type": "markdown",
   "metadata": {},
   "source": [
    "## 4. Evaluate the model"
   ]
  },
  {
   "cell_type": "markdown",
   "metadata": {},
   "source": [
    "### 4.1 Training and validation curves"
   ]
  },
  {
   "cell_type": "markdown",
   "metadata": {},
   "source": [
    "The code below is for plotting loss and accuracy curves for training and validation."
   ]
  },
  {
   "cell_type": "code",
   "execution_count": 17,
   "metadata": {
    "scrolled": true
   },
   "outputs": [
    {
     "data": {
      "image/png": "[encoded data removed]",
      "text/plain": [
       "<Figure size 432x288 with 2 Axes>"
      ]
     },
     "metadata": {},
     "output_type": "display_data"
    }
   ],
   "source": [
    "# Plot the loss and accuracy curves for training and validation \n",
    "fig, ax = plt.subplots(2,1)\n",
    "ax[0].plot(train_ce_curve, color='b', label=\"Training loss\")\n",
    "ax[0].plot(validation_ce_curve, color='r', label=\"validation loss\",axes =ax[0])\n",
    "legend = ax[0].legend(loc='best', shadow=True)\n",
    "\n",
    "ax[1].plot(train_accuracy_curve, color='b', label=\"Training accuracy\")\n",
    "ax[1].plot(validation_accuracy_curve, color='r',label=\"Validation accuracy\")\n",
    "legend = ax[1].legend(loc='best', shadow=True)"
   ]
  },
  {
   "cell_type": "markdown",
   "metadata": {},
   "source": [
    "### 4.2 Accuracy"
   ]
  },
  {
   "cell_type": "markdown",
   "metadata": {},
   "source": [
    "The model reaches almost 98% (97.6+%) accuracy on the validation dataset. The validation accuracy is greater than the training accuracy almost evry time during the training. That means that our model kind of overfit the training set."
   ]
  },
  {
   "cell_type": "code",
   "execution_count": 18,
   "metadata": {},
   "outputs": [
    {
     "name": "stdout",
     "output_type": "stream",
     "text": [
      "The final accuracy on training set is : 0.9786243438720703\n",
      "The final accuracy on validation set is : 0.9721428751945496\n"
     ]
    }
   ],
   "source": [
    "training_inputs = {X: X_train_input, Y: Y_train_input, keep_prob: 1.0}\n",
    "accuracy_training = sess.run(accuracy, feed_dict=training_inputs)\n",
    "print(\"The final accuracy on training set is : {}\".format(accuracy_training))\n",
    "\n",
    "val_inputs = {X: X_val_input, Y: Y_val_input, keep_prob: 1.0}\n",
    "accuracy_val = sess.run(accuracy, feed_dict=val_inputs)\n",
    "print(\"The final accuracy on validation set is : {}\".format(accuracy_val))"
   ]
  },
  {
   "cell_type": "markdown",
   "metadata": {},
   "source": [
    "### 4.3 Confusion matrix"
   ]
  },
  {
   "cell_type": "markdown",
   "metadata": {},
   "source": [
    "Confusion matrix can be very helpfull to see your model drawbacks.\n",
    "\n",
    "Here I plot the confusion matrix of the validation results."
   ]
  },
  {
   "cell_type": "code",
   "execution_count": 19,
   "metadata": {
    "scrolled": true
   },
   "outputs": [
    {
     "data": {
      "image/png": "[encoded data removed]",
      "text/plain": [
       "<Figure size 432x288 with 2 Axes>"
      ]
     },
     "metadata": {},
     "output_type": "display_data"
    }
   ],
   "source": [
    "# Look at confusion matrix \n",
    "\n",
    "def plot_confusion_matrix(cm, classes,\n",
    "                          normalize=False,\n",
    "                          title='Confusion matrix',\n",
    "                          cmap=plt.cm.Blues):\n",
    "    \"\"\"\n",
    "    This function prints and plots the confusion matrix.\n",
    "    Normalization can be applied by setting `normalize=True`.\n",
    "    \"\"\"\n",
    "    plt.imshow(cm, interpolation='nearest', cmap=cmap)\n",
    "    plt.title(title)\n",
    "    plt.colorbar()\n",
    "    tick_marks = np.arange(len(classes))\n",
    "    plt.xticks(tick_marks, classes, rotation=45)\n",
    "    plt.yticks(tick_marks, classes)\n",
    "\n",
    "    if normalize:\n",
    "        cm = cm.astype('float') / cm.sum(axis=1)[:, np.newaxis]\n",
    "\n",
    "    thresh = cm.max() / 2.\n",
    "    for i, j in itertools.product(range(cm.shape[0]), range(cm.shape[1])):\n",
    "        plt.text(j, i, cm[i, j],\n",
    "                 horizontalalignment=\"center\",\n",
    "                 color=\"white\" if cm[i, j] > thresh else \"black\")\n",
    "\n",
    "    plt.tight_layout()\n",
    "    plt.ylabel('True label')\n",
    "    plt.xlabel('Predicted label')\n",
    "\n",
    "# Predict the values from the validation dataset\n",
    "Y_pred = sess.run(prediction, feed_dict={X: X_val_input})\n",
    "# Convert predictions classes to one hot vectors \n",
    "Y_pred_classes = np.argmax(Y_pred,axis = 1) \n",
    "# Convert validation observations to one hot vectors\n",
    "Y_true = np.argmax(Y_val_input,axis = 1) \n",
    "# Compute the confusion matrix\n",
    "confusion_mtx = confusion_matrix(Y_true, Y_pred_classes) \n",
    "# Plot the confusion matrix\n",
    "plot_confusion_matrix(confusion_mtx, classes = range(10)) "
   ]
  },
  {
   "cell_type": "markdown",
   "metadata": {},
   "source": [
    "However, it seems that our CNN has some little troubles with the 8 and 9 digits, they are misclassified as 3. Sometime it is very difficult to catch the difference between 8 or 9 and 9 when curves are smooth."
   ]
  },
  {
   "cell_type": "markdown",
   "metadata": {},
   "source": [
    "Let's investigate for errors.\n",
    "\n",
    "I want to see the most important errors . For that purpose i need to get the difference between the probabilities of real value and the predicted ones in the results."
   ]
  },
  {
   "cell_type": "code",
   "execution_count": 20,
   "metadata": {},
   "outputs": [
    {
     "data": {
      "image/png": "[encoded data removed]",
      "text/plain": [
       "<Figure size 432x288 with 6 Axes>"
      ]
     },
     "metadata": {},
     "output_type": "display_data"
    }
   ],
   "source": [
    "# Display some error results \n",
    "\n",
    "# Errors are difference between predicted labels and true labels\n",
    "errors = (Y_pred_classes - Y_true != 0)\n",
    "\n",
    "Y_pred_classes_errors = Y_pred_classes[errors]\n",
    "Y_pred_errors = Y_pred[errors]\n",
    "Y_true_errors = Y_true[errors]\n",
    "X_val_errors = X_val_input[errors]\n",
    "\n",
    "def display_errors(errors_index, img_errors, pred_errors, obs_errors):\n",
    "    \"\"\" This function shows 6 images with their predicted and real labels \"\"\"\n",
    "    n = 0\n",
    "    nrows = 2\n",
    "    ncols = 3\n",
    "    fig, ax = plt.subplots(nrows,ncols,sharex=True,sharey=True)\n",
    "    for row in range(nrows):\n",
    "        for col in range(ncols):\n",
    "            error = errors_index[n]\n",
    "            ax[row,col].imshow((img_errors[error]).reshape((28,28)))\n",
    "            ax[row,col].set_title(\"Predicted label :{}\\nTrue label :{}\".format(pred_errors[error],obs_errors[error]))\n",
    "            n += 1\n",
    "\n",
    "# Probabilities of the wrong predicted numbers\n",
    "Y_pred_errors_prob = np.max(Y_pred_errors,axis = 1)\n",
    "\n",
    "# Predicted probabilities of the true values in the error set\n",
    "true_prob_errors = np.diagonal(np.take(Y_pred_errors, Y_true_errors, axis=1))\n",
    "\n",
    "# Difference between the probability of the predicted label and the true label\n",
    "delta_pred_true_errors = Y_pred_errors_prob - true_prob_errors\n",
    "\n",
    "# Sorted list of the delta prob errors\n",
    "sorted_dela_errors = np.argsort(delta_pred_true_errors)\n",
    "\n",
    "# Top 6 errors \n",
    "most_important_errors = sorted_dela_errors[-6:]\n",
    "\n",
    "# Show the top 6 errors\n",
    "display_errors(most_important_errors, X_val_errors, Y_pred_classes_errors, Y_true_errors)"
   ]
  },
  {
   "cell_type": "markdown",
   "metadata": {},
   "source": [
    "## 5. prediction and submission"
   ]
  },
  {
   "cell_type": "code",
   "execution_count": 21,
   "metadata": {},
   "outputs": [],
   "source": [
    "# predict results\n",
    "test_inputs = {X: test, keep_prob: 1.0}\n",
    "results = sess.run(prediction, feed_dict=test_inputs)\n",
    "\n",
    "# select the indix with the maximum probability\n",
    "results = np.argmax(results,axis = 1)\n",
    "results = pd.Series(results,name=\"Label\")\n",
    "\n",
    "#Submit the prediction\n",
    "submission = pd.concat([pd.Series(range(1,28001),name = \"ImageId\"),results],axis = 1)\n",
    "submission.to_csv(\"cnn_mnist_datagen.csv\",index=False)"
   ]
  }
 ],
 "metadata": {
  "kernelspec": {
   "display_name": "tensorflow",
   "language": "python",
   "name": "tensorflow1"
  },
  "language_info": {
   "codemirror_mode": {
    "name": "ipython",
    "version": 3
   },
   "file_extension": ".py",
   "mimetype": "text/x-python",
   "name": "python",
   "nbconvert_exporter": "python",
   "pygments_lexer": "ipython3",
   "version": "3.6.8"
  }
 },
 "nbformat": 4,
 "nbformat_minor": 2
}
