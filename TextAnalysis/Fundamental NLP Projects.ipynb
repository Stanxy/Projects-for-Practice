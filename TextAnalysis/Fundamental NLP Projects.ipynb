{
 "cells": [
  {
   "cell_type": "markdown",
   "metadata": {},
   "source": [
    "# Fundamental NLP Projects"
   ]
  },
  {
   "cell_type": "markdown",
   "metadata": {},
   "source": [
    "### Stan Liu"
   ]
  },
  {
   "cell_type": "markdown",
   "metadata": {},
   "source": [
    "#### 25/12/2018"
   ]
  },
  {
   "cell_type": "markdown",
   "metadata": {},
   "source": [
    "- #### 1.Introduction\n",
    "- #### 2.Data Preparation\n",
    "    - 2.1 Load necessary packages\n",
    "    - 2.2 Load data \n",
    "- #### 3.Trump Speech Analysis\n",
    "    - 3.1 Remove punctuations\n",
    "    - 3.2 Tokenize the word\n",
    "    - 3.3 Frequency distribution analysis\n",
    "    - 3.4 Lexical diversity exploration\n",
    "- #### 4.Amazon Review Analysis\n",
    "    - 4.1 Data exploration and drop the null value\n",
    "    - 4.2 Construct labels and inputs\n",
    "    - 4.3 Remove puncuation and stop words\n",
    "    - 4.4 Stemming and Lemmatization\n",
    "    - 4.5 Check the distribution of inputs and labels\n",
    "    - 4.6 Construct the models"
   ]
  },
  {
   "cell_type": "markdown",
   "metadata": {},
   "source": [
    "## 1. Introduction"
   ]
  },
  {
   "cell_type": "markdown",
   "metadata": {},
   "source": [
    " - This project is a entry level NLP practive projects, which aims at simple text precessing and analysis. Here we mainly use NLTK package to do tokenization, stopwords removing. In the analysis of Amazon Review, we construct a corpus and construct models to do the sentiment classification."
   ]
  },
  {
   "cell_type": "markdown",
   "metadata": {},
   "source": [
    "## 2.Data preparation"
   ]
  },
  {
   "cell_type": "markdown",
   "metadata": {},
   "source": [
    "### 2.1 Load data and packages"
   ]
  },
  {
   "cell_type": "code",
   "execution_count": 1,
   "metadata": {},
   "outputs": [],
   "source": [
    "import numpy as np\n",
    "import scipy as sp\n",
    "import pandas as pd\n",
    "import matplotlib.pyplot as plt\n",
    "import nltk\n",
    "import sklearn as sk\n",
    "import os,time,re,string\n",
    "import seaborn as sns\n",
    "%matplotlib inline\n",
    "\n",
    "from sklearn.model_selection import train_test_split, KFold\n",
    "from sklearn import metrics \n",
    "from sklearn.feature_extraction.text import TfidfVectorizer\n",
    "\n",
    "from sklearn.linear_model import LogisticRegression\n",
    "from sklearn.svm import SVC\n",
    "import xgboost as xgb\n",
    "from sklearn.naive_bayes import MultinomialNB\n",
    "\n",
    "from sklearn import metrics\n",
    "\n",
    "\n",
    "import string\n",
    "from nltk import FreqDist\n",
    "from nltk.corpus import stopwords\n",
    "from nltk.stem import PorterStemmer\n",
    "from nltk import WordNetLemmatizer\n",
    "from nltk import ngrams"
   ]
  },
  {
   "cell_type": "markdown",
   "metadata": {},
   "source": [
    "### 2.2 Load data"
   ]
  },
  {
   "cell_type": "markdown",
   "metadata": {},
   "source": [
    "First we import the trump.txt. This document is the from one of his campaign."
   ]
  },
  {
   "cell_type": "code",
   "execution_count": 2,
   "metadata": {},
   "outputs": [],
   "source": [
    "with open('trump.txt', encoding = 'utf-8') as f:\n",
    "    trump = f.read()"
   ]
  },
  {
   "cell_type": "markdown",
   "metadata": {},
   "source": [
    "Then we import all amazon reviews"
   ]
  },
  {
   "cell_type": "code",
   "execution_count": 3,
   "metadata": {},
   "outputs": [],
   "source": [
    "review_raw = pd.read_csv('./amazon-fine-food-reviews/Reviews.csv')"
   ]
  },
  {
   "cell_type": "markdown",
   "metadata": {},
   "source": [
    "## 3.Trump Speech Analysis"
   ]
  },
  {
   "cell_type": "markdown",
   "metadata": {},
   "source": [
    "### 3.1 Remove all punctuations\n",
    "- First we need to remove all punctuations"
   ]
  },
  {
   "cell_type": "code",
   "execution_count": 4,
   "metadata": {},
   "outputs": [],
   "source": [
    "# Define a function to remove all punctuations\n",
    "trantable = str.maketrans(\"\",\"\",string.punctuation)\n",
    "def data_clean(text):\n",
    "    text = text.lower()\n",
    "    text_clean = text.translate(trantable)\n",
    "    return text_clean"
   ]
  },
  {
   "cell_type": "code",
   "execution_count": 6,
   "metadata": {},
   "outputs": [],
   "source": [
    "trump = data_clean(trump)"
   ]
  },
  {
   "cell_type": "code",
   "execution_count": 7,
   "metadata": {
    "collapsed": true
   },
   "outputs": [
    {
     "data": {
      "text/plain": [
       "'ronald reagan building and international trade center\\n\\nwashington dc\\n\\n203 pm est\\n\\nthe president  thank you very much  thank you  please  i want to thank vice president pence along with the many members of my cabinet here with us today\\n\\ni also want to thank all of the dedicated professionals — military civilian and law enforcement — who devote their lives to serving our nation  in particular i want to recognize general dunford and the members of the joint chiefs of staff  thank you thank you thank you  applause\\n\\nin addition we are honored to be joined by house majority leader kevin mccarthy homeland security chairman mike mccaul and senate majority whip john cornyn  thank you very much  thank you for being here  thank you  thank you  applause\\n\\nlet me begin by expressing our deepest sympathies and most heartfelt prayers for the victims of the train derailment in washington state  we are closely monitoring the situation and coordinating with local authorities  it is all the more reason why we must start immediately fixing the infrastructure of the united states\\n\\nwe’re here today to discuss matters of vital importance to us all  america’s security prosperity and standing in the world  i want to talk about where we’ve been where we are now and finally our strategy for where we are going in the years ahead\\n\\nover the past 11 months i have traveled tens of thousands of miles to visit 13 countries  i have met with more than 100 world leaders  i have carried america’s message to a grand hall in saudi arabia a great square in warsaw to the general assembly of the united nations and to the seat of democracy on the korean peninsula  everywhere i traveled it was my highest privilege and greatest honor to represent the american people\\n\\nthroughout our history the american people have always been the true source of american greatness  our people have promoted our culture and promoted our values  americans have fought and sacrificed on the battlefields all over the world  we have liberated captive nations transformed former enemies into the best of friends and lifted entire regions of the planet from poverty to prosperity\\n\\nbecause of our people america has been among the greatest forces for peace and justice in the history of the world  the american people are generous  you are determined you are brave you are strong and you are wise\\n\\nwhen the american people speak all of us should listen  and just over one year ago you spoke loud and you spoke clear  on november 8 2016 you voted to make america great again  applause  you embraced new leadership and very new strategies and also a glorious new hope  that is why we are here today\\n\\nbut to seize the opportunities of the future we must first understand the failures of the past  for many years our citizens watched as washington politicians presided over one disappointment after another  to many of our leaders — so many who forgot whose voices they were to respect and whose interests they were supposed to defend — our leaders in washington negotiated disastrous trade deals that brought massive profits to many foreign nations but sent thousands of american factories and millions of american jobs to those other countries\\n\\nour leaders engaged in nationbuilding abroad while they failed to build up and replenish our nation at home  they undercut and shortchanged our men and women in uniform with inadequate resources unstable funding and unclear missions  they failed to insist that our often very wealthy allies pay their fair share for defense putting a massive and unfair burden on the us taxpayer and our great us military\\n\\nthey neglected a nuclear menace in north korea made a disastrous weak and incomprehensibly bad deal with iran and allowed terrorists such as isis to gain control of vast parts of territory all across the middle east\\n\\nthey put american energy under lock and key  they imposed punishing regulations and crippling taxes  they surrendered our sovereignty to foreign bureaucrats in faraway and distant capitals\\n\\nand over the profound objections of the american people our politicians left our borders wide open  millions of immigrants entered illegally  millions more were admitted into our country without the proper vetting needed to protect our security and our economy  leaders in washington imposed on the country an immigration policy that americans never voted for never asked for and never approved — a policy where the wrong people are allowed into our country and the right people are rejected  american citizens as usual have been left to bear the cost and to pick up the tab\\n\\non top of everything else our leaders drifted from american principles  they lost sight of america’s destiny  and they lost their belief in american greatness  as a result our citizens lost something as well  the people lost confidence in their government and eventually even lost confidence in their future\\n\\nbut last year all of that began to change  the american people rejected the failures of the past  you rediscovered your voice and reclaimed ownership of this nation and its destiny\\n\\non january 20th 2017 i stood on the steps of the capitol to herald the day the people became the rulers of their nation again  applause  thank you  now less than one year later i am proud to report that the entire world has heard the news and has already seen the signs  america is coming back and america is coming back strong\\n\\nupon my inauguration i announced that the united states would return to a simple principle  the first duty of our government is to serve its citizens many of whom have been forgotten  but they are not forgotten anymore  with every decision and every action we are now putting america first\\n\\nwe are rebuilding our nation our confidence and our standing in the world  we have moved swiftly to confront our challenges and we have confronted them headon\\n\\nwe are once again investing in our defense — almost 700 billion a record this coming year  we are demanding extraordinary strength which will hopefully lead to long and extraordinary peace  we are giving our courageous military men and women the support they need and so dearly deserve\\n\\nwe have withdrawn the united states from jobkilling deals such as the transpacific partnership and the very expensive and unfair paris climate accord  and on our trip to asia last month i announced that we will no longer tolerate trading abuse\\n\\nwe have established strict new vetting procedures to keep terrorists out of the united states and our vetting is getting tougher each month\\n\\nto counter iran and block its path to a nuclear weapon i sanctioned the islamic revolutionary guard corps for its support of terrorism and i declined to certify the iran deal to congress\\n\\nfollowing my trip to the middle east the gulf states and other muslimmajority nations joined together to fight radical islamist ideology and terrorist financing  we have dealt isis one devastating defeat after another  the coalition to defeat isis has now recaptured almost 100 percent of the land once held by these terrorists in iraq and syria  great job  applause  great job  really good  thank you  thank you  we have a great military  we’re now chasing them wherever they flee and we will not let them into the united states\\n\\nin afghanistan our troops are no longer undermined by artificial timelines and we no longer tell our enemies of our plans  we are beginning to see results on the battlefield  and we have made clear to pakistan that while we desire continued partnership we must see decisive action against terrorist groups operating on their territory  and we make massive payments every year to pakistan  they have to help\\n\\nour efforts to strengthen the nato alliance set the stage for significant increases in member contributions with tens of billions of dollars more pouring in because i would not allow member states to be delinquent in the payment while we guarantee their safety and are willing to fight wars for them  we have made clear that countries that are immensely wealthy should reimburse the united states for the cost of defending them  this is a major departure from the past but a fair and necessary one — necessary for our country necessary for our taxpayer necessary for our own thought process\\n\\nour campaign of maximum pressure on the north korean regime has resulted in the toughestever sanctions  we have united our allies in an unprecedented effort to isolate north korea  however there is much more work to do  america and its allies will take all necessary steps to achieve a denuclearization and ensure that this regime cannot threaten the world  applause  thank you  this situation should have been taken care of long before i got into office when it was much easier to handle  but it will be taken care of  we have no choice\\n\\nat home we are keeping our promises and liberating the american economy  we have created more than 2 million jobs since the election  unemployment is at a 17yearlow  the stock market is at an alltime high and just a little while ago hit yet another alltime high — the 85th time since my election  applause\\n\\nwe have cut 22 regulations for every one new regulation the most in the history of our country  we have unlocked america’s vast energy resources\\n\\nas the world watches — and the world is indeed watching — we are days away from passing historic tax cuts for american families and businesses  it will be the biggest tax cut and tax reform in the history of our country  applause  thank you  thank you  thank you\\n\\nand we are seeing the response we fully expected  economic growth has topped 3 percent for two quarters in a row  gdp growth which is way ahead of schedule under my administration will be one of america’s truly greatest weapons\\n\\noptimism has surged  confidence has returned  with this new confidence we are also bringing back clarity to our thinking  we are reasserting these fundamental truths\\n\\na nation without borders is not a nation  applause\\n\\na nation that does not protect prosperity at home cannot protect its interests abroad\\n\\na nation that is not prepared to win a war is a nation not capable of preventing a war\\n\\na nation that is not proud of its history cannot be confident in its future\\n\\nand a nation that is not certain of its values cannot summon the will to defend them\\n\\ntoday grounded in these truths we are presenting to the world our new national security strategy  based on my direction this document has been in development for over a year  it has the endorsement of my entire cabinet\\n\\nour new strategy is based on a principled realism guided by our vital national interests and rooted in our timeless values\\n\\nthis strategy recognizes that whether we like it or not we are engaged in a new era of competition  we accept that vigorous military economic and political contests are now playing out all around the world\\n\\nwe face rogue regimes that threaten the united states and our allies  we face terrorist organizations transnational criminal networks and others who spread violence and evil around the globe\\n\\nwe also face rival powers russia and china that seek to challenge american influence values and wealth  we will attempt to build a great partnership with those and other countries but in a manner that always protects our national interest\\n\\nas an example yesterday i received a call from president putin of russia thanking our country for the intelligence that our cia was able to provide them concerning a major terrorist attack planned in st petersburg where many people perhaps in the thousands could have been killed  they were able to apprehend these terrorists before the event with no loss of life  and that’s a great thing and the way it’s supposed to work  that is the way it’s supposed to work\\n\\nbut while we seek such opportunities of cooperation we will stand up for ourselves and we will stand up for our country like we have never stood up before  applause  thank you  thank you  thank you\\n\\nwe know that american success is not a forgone conclusion  it must be earned and it must be won  our rivals are tough they’re tenacious and committed to the long term  but so are we\\n\\nto succeed we must integrate every dimension of our national strength and we must compete with every instrument of our national power\\n\\nunder the trump administration america is gaining wealth leading to enhanced power — faster than anyone thought — with 6 trillion more in the stock market alone since the election — 6 trillion\\n\\nwith the strategy i am announcing today we are declaring that america is in the game and america is going to win  applause  thank you\\n\\nour strategy advances four vital national interests  first we must protect the american people the homeland and our great american way of life  this strategy recognizes that we cannot secure our nation if we do not secure our borders  so for the first time ever american strategy now includes a serious plan to defend our homeland  it calls for the construction of a wall on our southern border ending chain migration and the horrible visa and lottery programs closing loopholes that undermine enforcement and strongly supporting our border patrol agents ice officers and homeland security personnel  applause\\n\\nin addition our strategy calls for us to confront discredit and defeat radical islamic terrorism and ideology and to prevent it from spreading into the united states  and we will develop new ways to counter those who use new domains such as cyber and social media to attack our nation or threaten our society\\n\\nthe second pillar of our strategy is to promote american prosperity  for the first time american strategy recognizes that economic security is national security  economic vitality growth and prosperity at home is absolutely necessary for american power and influence abroad  any nation that trades away its prosperity for security will end up losing both\\n\\nthat is why this national security strategy emphasizes more than any before the critical steps we must take to ensure the prosperity of our nation for a long long time to come\\n\\nit calls for cutting taxes and rolling back unnecessary regulations  it calls for trade based on the principles of fairness and reciprocity  it calls for firm action against unfair trade practices and intellectual property theft  and it calls for new steps to protect our national security industrial and innovation base\\n\\nthe strategy proposes a complete rebuilding of american infrastructure — our roads bridges airports waterways and communications infrastructure  and it embraces a future of american energy dominance and selfsufficiency\\n\\nthe third pillar of our strategy is to preserve peace through strength  applause  we recognize that weakness is the surest path to conflict and unrivaled power is the most certain means of defense  for this reason our strategy breaks from the damaging defense sequester  we’re going to get rid of that  applause\\n\\nit calls for a total modernization of our military and reversing previous decisions to shrink our armed forces — even as threats to national security grew  it calls for streamlining acquisition eliminating bloated bureaucracy and massively building up our military which has the fundamental side benefit of creating millions and millions of jobs\\n\\nthis strategy includes plans to counter modern threats such as cyber and electromagnetic attacks  it recognizes space as a competitive domain and calls for multilayered missile defense  applause  this strategy outlines important steps to address new forms of conflict such as economic and political aggression\\n\\nand our strategy emphasizes strengthening alliances to cope with these threats  it recognizes that our strength is magnified by allies who share principles — and our principles — and shoulder their fair share of responsibility for our common security\\n\\nfourth and finally our strategy is to advance american influence in the world but this begins with building up our wealth and power at home\\n\\namerica will lead again  we do not seek to impose our way of life on anyone but we will champion the values without apology  we want strong alliances and partnerships based on cooperation and reciprocity  we will make new partnerships with those who share our goals and make common interests into a common cause  we will not allow inflexible ideology to become an obsolete and obstacle to peace\\n\\nwe will pursue the vision we have carried around the world over this past year — a vision of strong sovereign and independent nations that respect their citizens and respect their neighbors nations that thrive in commerce and cooperation rooted in their histories and branching out toward their destinies\\n\\nthat is the future we wish for this world and that is the future we seek in america  applause\\n\\nwith this strategy we are calling for a great reawakening of america a resurgence of confidence and a rebirth of patriotism prosperity and pride\\n\\nand we are returning to the wisdom of our founders  in america the people govern the people rule and the people are sovereign  what we have built here in america is precious and unique  in all of history never before has freedom reigned the rule of law prevailed and the people thrived as we have here for nearly 250 years\\n\\nwe must love and defend it  we must guard it with vigilance and spirit and if necessary like so many before us with our very lives  and we declare that our will is renewed our future is regained and our dreams are restored\\n\\nevery american has a role to play in this grand national effort  and today i invite every citizen to take their part in our vital mission  together our task is to strengthen our families to build up our communities to serve our citizens and to celebrate american greatness as a shining example to the world\\n\\nas long as we are proud — and very proud — of who we are how we got here and what we are fighting for to preserve we will not fail\\n\\nif we do all of this if we rediscover our resolve and commit ourselves to compete and win again then together we will leave our children and our grandchildren a nation that is stronger better freer prouder and yes an america that is greater than ever before\\n\\ngod bless you  thank you very much  thank you  applause\\n\\nend\\n\\n232 pm est\\n'"
      ]
     },
     "execution_count": 7,
     "metadata": {},
     "output_type": "execute_result"
    }
   ],
   "source": [
    "trump"
   ]
  },
  {
   "cell_type": "markdown",
   "metadata": {},
   "source": [
    "### 3.2 Tokenize the word"
   ]
  },
  {
   "cell_type": "code",
   "execution_count": 8,
   "metadata": {},
   "outputs": [],
   "source": [
    "tokens = nltk.word_tokenize(trump)"
   ]
  },
  {
   "cell_type": "markdown",
   "metadata": {},
   "source": [
    " - Then we transform the token object into an nltk Text object in order to apply methods"
   ]
  },
  {
   "cell_type": "code",
   "execution_count": 58,
   "metadata": {},
   "outputs": [],
   "source": [
    "tokens2 = [word for word in tokens if word not in stopwords.words('english')]"
   ]
  },
  {
   "cell_type": "code",
   "execution_count": 67,
   "metadata": {},
   "outputs": [],
   "source": [
    "# Here we create a Text object with stopwords moved \n",
    "text2 = nltk.Text(tokens2)"
   ]
  },
  {
   "cell_type": "code",
   "execution_count": 72,
   "metadata": {},
   "outputs": [],
   "source": [
    "# Here we creat another Text object with sropwords reamining\n",
    "text = nltk.Text(tokens)"
   ]
  },
  {
   "cell_type": "markdown",
   "metadata": {},
   "source": [
    "### 3.3 Frequency distribution analysis \n",
    " - We can draw distrubution of key words"
   ]
  },
  {
   "cell_type": "code",
   "execution_count": 68,
   "metadata": {
    "scrolled": true
   },
   "outputs": [
    {
     "data": {
      "image/png": "[encoded data removed]",
      "text/plain": [
       "<Figure size 432x288 with 1 Axes>"
      ]
     },
     "metadata": {
      "needs_background": "light"
     },
     "output_type": "display_data"
    }
   ],
   "source": [
    "text2.dispersion_plot(['great','people','american','jobs','tax'])"
   ]
  },
  {
   "cell_type": "markdown",
   "metadata": {},
   "source": [
    "From here we can see the word \"american\" and \"people\" appears quite frequently in his speech, while critical key words like \"jobs\" or \"tax\", which is highly related to his political view, is quite sparse."
   ]
  },
  {
   "cell_type": "markdown",
   "metadata": {},
   "source": [
    " - Also, we can testify the most frequent collocations"
   ]
  },
  {
   "cell_type": "code",
   "execution_count": 69,
   "metadata": {
    "scrolled": true
   },
   "outputs": [
    {
     "name": "stdout",
     "output_type": "stream",
     "text": [
      "united states; thank thank; since election; national security;\n",
      "american people; alltime high; men women; middle east; stock market;\n",
      "taken care; north korea; american greatness; economic political;\n",
      "failures past; made clear; supposed work; serve citizens; applause\n",
      "thank; coming back; fair share\n"
     ]
    }
   ],
   "source": [
    "text2.collocations()"
   ]
  },
  {
   "cell_type": "markdown",
   "metadata": {},
   "source": [
    " - Calculate word frequency"
   ]
  },
  {
   "cell_type": "code",
   "execution_count": 70,
   "metadata": {},
   "outputs": [
    {
     "data": {
      "text/plain": [
       "[('american', 28),\n",
       " ('thank', 24),\n",
       " ('—', 20),\n",
       " ('america', 20),\n",
       " ('strategy', 20),\n",
       " ('people', 18),\n",
       " ('nation', 17),\n",
       " ('applause', 17),\n",
       " ('world', 15),\n",
       " ('new', 14)]"
      ]
     },
     "execution_count": 70,
     "metadata": {},
     "output_type": "execute_result"
    }
   ],
   "source": [
    "text_fq = nltk.FreqDist(text2)\n",
    "text_fq.most_common(10)"
   ]
  },
  {
   "cell_type": "markdown",
   "metadata": {},
   "source": [
    " - Cumulative chart of high words with high frequency"
   ]
  },
  {
   "cell_type": "code",
   "execution_count": 71,
   "metadata": {
    "scrolled": true
   },
   "outputs": [
    {
     "data": {
      "image/png": "[encoded data removed]",
      "text/plain": [
       "<Figure size 432x288 with 1 Axes>"
      ]
     },
     "metadata": {
      "needs_background": "light"
     },
     "output_type": "display_data"
    }
   ],
   "source": [
    "text_fq.plot(30,cumulative=True)"
   ]
  },
  {
   "cell_type": "markdown",
   "metadata": {},
   "source": [
    "### 3.4 Lexical diversity exploration\n",
    "- Also, we can culculate the lexical diversity between trump and others"
   ]
  },
  {
   "cell_type": "code",
   "execution_count": 14,
   "metadata": {},
   "outputs": [],
   "source": [
    "def lexical_diversity(text):\n",
    "    return len(set(text)) / len(text)"
   ]
  },
  {
   "cell_type": "code",
   "execution_count": 15,
   "metadata": {
    "scrolled": false
   },
   "outputs": [
    {
     "data": {
      "text/plain": [
       "0.31968"
      ]
     },
     "execution_count": 15,
     "metadata": {},
     "output_type": "execute_result"
    }
   ],
   "source": [
    "lexical_diversity(text)"
   ]
  },
  {
   "cell_type": "markdown",
   "metadata": {},
   "source": [
    "Here we find, in average, in 100 words, Trump will use about 32 different words in his speech. This ratio is a little bit higher comparaed with Jane Austen's works and all speechs divered by presidents of the United States in the history. (diversity of other sources can be checked by downloading the innate package in nltk and doing the same analysis) . \n",
    "\n",
    "However we should be aware of one fact that, generally speaking, there will be a diminishing trend in the lexical diversity when passage becomes longer. This is not surprising, since the word domain is nearly fixed, which means the more word one use, the less word one can choose. Moreover, the frequency of word is even, some words (like all stop words), must appear in a passage much more often than others."
   ]
  },
  {
   "cell_type": "markdown",
   "metadata": {},
   "source": [
    "## 4.Amazon Review Analysis"
   ]
  },
  {
   "cell_type": "markdown",
   "metadata": {},
   "source": [
    "### 4.1 Data exploration\n",
    "- We can first look through the reviews"
   ]
  },
  {
   "cell_type": "code",
   "execution_count": 16,
   "metadata": {},
   "outputs": [
    {
     "data": {
      "text/html": [
       "<div>\n",
       "<style scoped>\n",
       "    .dataframe tbody tr th:only-of-type {\n",
       "        vertical-align: middle;\n",
       "    }\n",
       "\n",
       "    .dataframe tbody tr th {\n",
       "        vertical-align: top;\n",
       "    }\n",
       "\n",
       "    .dataframe thead th {\n",
       "        text-align: right;\n",
       "    }\n",
       "</style>\n",
       "<table border=\"1\" class=\"dataframe\">\n",
       "  <thead>\n",
       "    <tr style=\"text-align: right;\">\n",
       "      <th></th>\n",
       "      <th>Id</th>\n",
       "      <th>ProductId</th>\n",
       "      <th>UserId</th>\n",
       "      <th>ProfileName</th>\n",
       "      <th>HelpfulnessNumerator</th>\n",
       "      <th>HelpfulnessDenominator</th>\n",
       "      <th>Score</th>\n",
       "      <th>Time</th>\n",
       "      <th>Summary</th>\n",
       "      <th>Text</th>\n",
       "    </tr>\n",
       "  </thead>\n",
       "  <tbody>\n",
       "    <tr>\n",
       "      <th>0</th>\n",
       "      <td>1</td>\n",
       "      <td>B001E4KFG0</td>\n",
       "      <td>A3SGXH7AUHU8GW</td>\n",
       "      <td>delmartian</td>\n",
       "      <td>1</td>\n",
       "      <td>1</td>\n",
       "      <td>5</td>\n",
       "      <td>1303862400</td>\n",
       "      <td>Good Quality Dog Food</td>\n",
       "      <td>I have bought several of the Vitality canned d...</td>\n",
       "    </tr>\n",
       "    <tr>\n",
       "      <th>1</th>\n",
       "      <td>2</td>\n",
       "      <td>B00813GRG4</td>\n",
       "      <td>A1D87F6ZCVE5NK</td>\n",
       "      <td>dll pa</td>\n",
       "      <td>0</td>\n",
       "      <td>0</td>\n",
       "      <td>1</td>\n",
       "      <td>1346976000</td>\n",
       "      <td>Not as Advertised</td>\n",
       "      <td>Product arrived labeled as Jumbo Salted Peanut...</td>\n",
       "    </tr>\n",
       "    <tr>\n",
       "      <th>2</th>\n",
       "      <td>3</td>\n",
       "      <td>B000LQOCH0</td>\n",
       "      <td>ABXLMWJIXXAIN</td>\n",
       "      <td>Natalia Corres \"Natalia Corres\"</td>\n",
       "      <td>1</td>\n",
       "      <td>1</td>\n",
       "      <td>4</td>\n",
       "      <td>1219017600</td>\n",
       "      <td>\"Delight\" says it all</td>\n",
       "      <td>This is a confection that has been around a fe...</td>\n",
       "    </tr>\n",
       "    <tr>\n",
       "      <th>3</th>\n",
       "      <td>4</td>\n",
       "      <td>B000UA0QIQ</td>\n",
       "      <td>A395BORC6FGVXV</td>\n",
       "      <td>Karl</td>\n",
       "      <td>3</td>\n",
       "      <td>3</td>\n",
       "      <td>2</td>\n",
       "      <td>1307923200</td>\n",
       "      <td>Cough Medicine</td>\n",
       "      <td>If you are looking for the secret ingredient i...</td>\n",
       "    </tr>\n",
       "    <tr>\n",
       "      <th>4</th>\n",
       "      <td>5</td>\n",
       "      <td>B006K2ZZ7K</td>\n",
       "      <td>A1UQRSCLF8GW1T</td>\n",
       "      <td>Michael D. Bigham \"M. Wassir\"</td>\n",
       "      <td>0</td>\n",
       "      <td>0</td>\n",
       "      <td>5</td>\n",
       "      <td>1350777600</td>\n",
       "      <td>Great taffy</td>\n",
       "      <td>Great taffy at a great price.  There was a wid...</td>\n",
       "    </tr>\n",
       "  </tbody>\n",
       "</table>\n",
       "</div>"
      ],
      "text/plain": [
       "   Id   ProductId          UserId                      ProfileName  \\\n",
       "0   1  B001E4KFG0  A3SGXH7AUHU8GW                       delmartian   \n",
       "1   2  B00813GRG4  A1D87F6ZCVE5NK                           dll pa   \n",
       "2   3  B000LQOCH0   ABXLMWJIXXAIN  Natalia Corres \"Natalia Corres\"   \n",
       "3   4  B000UA0QIQ  A395BORC6FGVXV                             Karl   \n",
       "4   5  B006K2ZZ7K  A1UQRSCLF8GW1T    Michael D. Bigham \"M. Wassir\"   \n",
       "\n",
       "   HelpfulnessNumerator  HelpfulnessDenominator  Score        Time  \\\n",
       "0                     1                       1      5  1303862400   \n",
       "1                     0                       0      1  1346976000   \n",
       "2                     1                       1      4  1219017600   \n",
       "3                     3                       3      2  1307923200   \n",
       "4                     0                       0      5  1350777600   \n",
       "\n",
       "                 Summary                                               Text  \n",
       "0  Good Quality Dog Food  I have bought several of the Vitality canned d...  \n",
       "1      Not as Advertised  Product arrived labeled as Jumbo Salted Peanut...  \n",
       "2  \"Delight\" says it all  This is a confection that has been around a fe...  \n",
       "3         Cough Medicine  If you are looking for the secret ingredient i...  \n",
       "4            Great taffy  Great taffy at a great price.  There was a wid...  "
      ]
     },
     "execution_count": 16,
     "metadata": {},
     "output_type": "execute_result"
    }
   ],
   "source": [
    "review_raw.head(5)"
   ]
  },
  {
   "cell_type": "code",
   "execution_count": 17,
   "metadata": {
    "scrolled": true
   },
   "outputs": [
    {
     "name": "stdout",
     "output_type": "stream",
     "text": [
      "<class 'pandas.core.frame.DataFrame'>\n",
      "RangeIndex: 568454 entries, 0 to 568453\n",
      "Data columns (total 10 columns):\n",
      "Id                        568454 non-null int64\n",
      "ProductId                 568454 non-null object\n",
      "UserId                    568454 non-null object\n",
      "ProfileName               568438 non-null object\n",
      "HelpfulnessNumerator      568454 non-null int64\n",
      "HelpfulnessDenominator    568454 non-null int64\n",
      "Score                     568454 non-null int64\n",
      "Time                      568454 non-null int64\n",
      "Summary                   568427 non-null object\n",
      "Text                      568454 non-null object\n",
      "dtypes: int64(5), object(5)\n",
      "memory usage: 43.4+ MB\n"
     ]
    }
   ],
   "source": [
    "review_raw.info()"
   ]
  },
  {
   "cell_type": "markdown",
   "metadata": {},
   "source": [
    " - We first do data preprocessing. Drop all the null value"
   ]
  },
  {
   "cell_type": "code",
   "execution_count": 18,
   "metadata": {},
   "outputs": [],
   "source": [
    "review = review_raw.dropna()"
   ]
  },
  {
   "cell_type": "markdown",
   "metadata": {},
   "source": [
    "### 4.2 Construct labels and inputs"
   ]
  },
  {
   "cell_type": "markdown",
   "metadata": {},
   "source": [
    "#### Binarize the review score.\n",
    "- For all review where score > 3, we label it with \"positive\"\n",
    "- For all review where score <= 3, we label it with \"neigative\""
   ]
  },
  {
   "cell_type": "code",
   "execution_count": 19,
   "metadata": {},
   "outputs": [],
   "source": [
    "label = review['Score'].apply(lambda x:1 if x>3 else 0)"
   ]
  },
  {
   "cell_type": "markdown",
   "metadata": {},
   "source": [
    "#### Pick out the summary column"
   ]
  },
  {
   "cell_type": "code",
   "execution_count": 20,
   "metadata": {},
   "outputs": [],
   "source": [
    "summary = review['Summary']"
   ]
  },
  {
   "cell_type": "code",
   "execution_count": 21,
   "metadata": {
    "scrolled": true
   },
   "outputs": [
    {
     "data": {
      "text/plain": [
       "0    Good Quality Dog Food\n",
       "1        Not as Advertised\n",
       "2    \"Delight\" says it all\n",
       "3           Cough Medicine\n",
       "4              Great taffy\n",
       "Name: Summary, dtype: object"
      ]
     },
     "execution_count": 21,
     "metadata": {},
     "output_type": "execute_result"
    }
   ],
   "source": [
    "summary.head(5)"
   ]
  },
  {
   "cell_type": "markdown",
   "metadata": {},
   "source": [
    "### 4.3 Remove puncuation and stop words"
   ]
  },
  {
   "cell_type": "markdown",
   "metadata": {},
   "source": [
    "#### Remove all the punctuation"
   ]
  },
  {
   "cell_type": "code",
   "execution_count": 22,
   "metadata": {},
   "outputs": [],
   "source": [
    "#对summary执行data_clearn操作\n",
    "summary = summary.apply(lambda x: data_clean(x))"
   ]
  },
  {
   "cell_type": "code",
   "execution_count": 23,
   "metadata": {},
   "outputs": [
    {
     "data": {
      "text/plain": [
       "0    good quality dog food\n",
       "1        not as advertised\n",
       "2      delight says it all\n",
       "3           cough medicine\n",
       "4              great taffy\n",
       "Name: Summary, dtype: object"
      ]
     },
     "execution_count": 23,
     "metadata": {},
     "output_type": "execute_result"
    }
   ],
   "source": [
    "summary.head(5)"
   ]
  },
  {
   "cell_type": "markdown",
   "metadata": {},
   "source": [
    "#### Tokenize the message"
   ]
  },
  {
   "cell_type": "code",
   "execution_count": 24,
   "metadata": {},
   "outputs": [],
   "source": [
    "corpus_w_stopword = [nltk.word_tokenize(text) for text in summary]"
   ]
  },
  {
   "cell_type": "code",
   "execution_count": 25,
   "metadata": {},
   "outputs": [
    {
     "data": {
      "text/plain": [
       "[['good', 'quality', 'dog', 'food'],\n",
       " ['not', 'as', 'advertised'],\n",
       " ['delight', 'says', 'it', 'all'],\n",
       " ['cough', 'medicine'],\n",
       " ['great', 'taffy']]"
      ]
     },
     "execution_count": 25,
     "metadata": {},
     "output_type": "execute_result"
    }
   ],
   "source": [
    "corpus_w_stopword[:5]"
   ]
  },
  {
   "cell_type": "markdown",
   "metadata": {},
   "source": [
    " #### Remove the stop words\n",
    "\n",
    "\n",
    "Here we must pay attention to one thing:\n",
    "   - Some negative words shouldn't be removed. Otherwise, the emotion analysis may have huge bias. (e.g. \"I'm happy\" versus \"I'm not happy.\" )\n",
    "   - Here we adopt a method: if there's a \"not\" before an adjective, we just link \"not\" to the word with a \"\\_\" (e.g. \"not happy\" → \"not_happy\")"
   ]
  },
  {
   "cell_type": "code",
   "execution_count": 27,
   "metadata": {},
   "outputs": [],
   "source": [
    "for subcorpus in corpus_w_stopword:\n",
    "    for i,word in enumerate(subcorpus):\n",
    "        if word == 'not' and i != (len(subcorpus)-1):\n",
    "            temp = word\n",
    "            subcorpus.append(temp + '_' + subcorpus[i+1])"
   ]
  },
  {
   "cell_type": "markdown",
   "metadata": {},
   "source": [
    " - Now we can define the function to remove stop words"
   ]
  },
  {
   "cell_type": "code",
   "execution_count": 28,
   "metadata": {},
   "outputs": [],
   "source": [
    "def remove_stopword(text):\n",
    "    return [word for word in text if word not in stopwords.words('english')]"
   ]
  },
  {
   "cell_type": "markdown",
   "metadata": {},
   "source": [
    "- Construct a new corpus"
   ]
  },
  {
   "cell_type": "code",
   "execution_count": 29,
   "metadata": {},
   "outputs": [],
   "source": [
    "corpus_wo_stopword = [remove_stopword(text) for text in corpus_w_stopword]"
   ]
  },
  {
   "cell_type": "code",
   "execution_count": 30,
   "metadata": {},
   "outputs": [
    {
     "data": {
      "text/plain": [
       "[['good', 'quality', 'dog', 'food'],\n",
       " ['advertised', 'not_as'],\n",
       " ['delight', 'says'],\n",
       " ['cough', 'medicine'],\n",
       " ['great', 'taffy']]"
      ]
     },
     "execution_count": 30,
     "metadata": {},
     "output_type": "execute_result"
    }
   ],
   "source": [
    "corpus_wo_stopword[:5]"
   ]
  },
  {
   "cell_type": "markdown",
   "metadata": {},
   "source": [
    " - Check the proportion of real words:"
   ]
  },
  {
   "cell_type": "code",
   "execution_count": 31,
   "metadata": {},
   "outputs": [
    {
     "name": "stdout",
     "output_type": "stream",
     "text": [
      "The proportion of real words is 0.996924\n"
     ]
    }
   ],
   "source": [
    "corpus_wo_h = np.hstack(corpus_wo_stopword)\n",
    "corpus_w_h = np.hstack(corpus_w_stopword)\n",
    "\n",
    "print(\"The proportion of real words is {:5f}\".format(len(set(corpus_wo_h))/len(set(corpus_w_h))))"
   ]
  },
  {
   "cell_type": "markdown",
   "metadata": {},
   "source": [
    "This is a good news, which means that by doing the basic cleansing process, which just contains the stopword removing, we didn't lost much information about the comments. This can be helpful when we try to analyze the sentiment in the following part"
   ]
  },
  {
   "cell_type": "markdown",
   "metadata": {},
   "source": [
    "### 4.4 Stemming and Lemmatization\n",
    "  - Here we compare two kinds of words transformation method"
   ]
  },
  {
   "cell_type": "code",
   "execution_count": 32,
   "metadata": {},
   "outputs": [],
   "source": [
    "porter = PorterStemmer()\n",
    "wnl = WordNetLemmatizer()"
   ]
  },
  {
   "cell_type": "code",
   "execution_count": 34,
   "metadata": {},
   "outputs": [],
   "source": [
    "stem_wo = [porter.stem(word) for word in corpus_wo_h]\n",
    "lem_wo = [wnl.lemmatize(word) for word in corpus_wo_h]"
   ]
  },
  {
   "cell_type": "markdown",
   "metadata": {},
   "source": [
    " - Print the outcome of these two versions"
   ]
  },
  {
   "cell_type": "code",
   "execution_count": 85,
   "metadata": {},
   "outputs": [
    {
     "data": {
      "image/png": "[encoded data removed]",
      "text/plain": [
       "<Figure size 432x288 with 1 Axes>"
      ]
     },
     "metadata": {
      "needs_background": "light"
     },
     "output_type": "display_data"
    }
   ],
   "source": [
    "plt.figure(figsize=(6,4))\n",
    "sns.barplot(x = ['raw data','after stemming', 'after lemmatization'], \n",
    "            y = [len(set(corpus_wo_h)), len(set(stem_wo)), len(set(lem_wo))]) \n",
    "plt.ylabel('count')\n",
    "plt.show()"
   ]
  },
  {
   "cell_type": "markdown",
   "metadata": {},
   "source": [
    " - Consider the method ot Stemming and Lemmatization, we adopt Lemmatization to obtain a raw corpus without too much information loss"
   ]
  },
  {
   "cell_type": "markdown",
   "metadata": {},
   "source": [
    "### 4.5 Check the distribution of inputs and labels"
   ]
  },
  {
   "cell_type": "markdown",
   "metadata": {},
   "source": [
    " - Calculate the frequency of the heat words"
   ]
  },
  {
   "cell_type": "code",
   "execution_count": 36,
   "metadata": {},
   "outputs": [],
   "source": [
    "fdist_wo = pd.DataFrame(list(FreqDist(lem_wo).items()),columns = ['Words', 'Frequency'])\n",
    "fdist_wo.sort_values(by = 'Frequency', inplace = True, ascending = False)"
   ]
  },
  {
   "cell_type": "code",
   "execution_count": 37,
   "metadata": {},
   "outputs": [
    {
     "data": {
      "text/html": [
       "<div>\n",
       "<style scoped>\n",
       "    .dataframe tbody tr th:only-of-type {\n",
       "        vertical-align: middle;\n",
       "    }\n",
       "\n",
       "    .dataframe tbody tr th {\n",
       "        vertical-align: top;\n",
       "    }\n",
       "\n",
       "    .dataframe thead th {\n",
       "        text-align: right;\n",
       "    }\n",
       "</style>\n",
       "<table border=\"1\" class=\"dataframe\">\n",
       "  <thead>\n",
       "    <tr style=\"text-align: right;\">\n",
       "      <th></th>\n",
       "      <th>Words</th>\n",
       "      <th>Frequency</th>\n",
       "    </tr>\n",
       "  </thead>\n",
       "  <tbody>\n",
       "    <tr>\n",
       "      <th>10</th>\n",
       "      <td>great</td>\n",
       "      <td>72618</td>\n",
       "    </tr>\n",
       "    <tr>\n",
       "      <th>0</th>\n",
       "      <td>good</td>\n",
       "      <td>51567</td>\n",
       "    </tr>\n",
       "    <tr>\n",
       "      <th>25</th>\n",
       "      <td>love</td>\n",
       "      <td>35733</td>\n",
       "    </tr>\n",
       "    <tr>\n",
       "      <th>20</th>\n",
       "      <td>best</td>\n",
       "      <td>33370</td>\n",
       "    </tr>\n",
       "    <tr>\n",
       "      <th>148</th>\n",
       "      <td>coffee</td>\n",
       "      <td>25113</td>\n",
       "    </tr>\n",
       "  </tbody>\n",
       "</table>\n",
       "</div>"
      ],
      "text/plain": [
       "      Words  Frequency\n",
       "10    great      72618\n",
       "0      good      51567\n",
       "25     love      35733\n",
       "20     best      33370\n",
       "148  coffee      25113"
      ]
     },
     "execution_count": 37,
     "metadata": {},
     "output_type": "execute_result"
    }
   ],
   "source": [
    "fdist_wo.head(5)"
   ]
  },
  {
   "cell_type": "code",
   "execution_count": 38,
   "metadata": {},
   "outputs": [],
   "source": [
    "#First we define a function to get ngram list for a word series\n",
    "\n",
    "def get_ngrams(text, n = 2):\n",
    "    return ngrams(text, n)"
   ]
  },
  {
   "cell_type": "code",
   "execution_count": 39,
   "metadata": {},
   "outputs": [
    {
     "data": {
      "text/plain": [
       "[('good', 'quality'),\n",
       " ('quality', 'dog'),\n",
       " ('dog', 'food'),\n",
       " ('advertised', 'not_as'),\n",
       " ('delight', 'says')]"
      ]
     },
     "execution_count": 39,
     "metadata": {},
     "output_type": "execute_result"
    }
   ],
   "source": [
    "bigram_wo = []\n",
    "for token in corpus_wo_stopword:\n",
    "    bigram = nltk.bigrams(token)\n",
    "    for item in bigram:\n",
    "        bigram_wo.append(item)\n",
    "        \n",
    "bigram_wo[:5]"
   ]
  },
  {
   "cell_type": "code",
   "execution_count": 40,
   "metadata": {},
   "outputs": [
    {
     "data": {
      "text/plain": [
       "[(('great', 'product'), 7087),\n",
       " (('great', 'taste'), 3441),\n",
       " (('great', 'coffee'), 3180),\n",
       " (('great', 'price'), 3119),\n",
       " (('dogs', 'love'), 2876),\n",
       " (('dog', 'food'), 2856),\n",
       " (('good', 'stuff'), 2799),\n",
       " (('dog', 'loves'), 2756),\n",
       " (('gluten', 'free'), 2661),\n",
       " (('good', 'product'), 2278)]"
      ]
     },
     "execution_count": 40,
     "metadata": {},
     "output_type": "execute_result"
    }
   ],
   "source": [
    "bifq = FreqDist(bigram_wo)\n",
    "\n",
    "bifq.most_common(10)"
   ]
  },
  {
   "cell_type": "markdown",
   "metadata": {},
   "source": [
    " - Sort the value and print it out"
   ]
  },
  {
   "cell_type": "code",
   "execution_count": 41,
   "metadata": {},
   "outputs": [
    {
     "data": {
      "text/html": [
       "<div>\n",
       "<style scoped>\n",
       "    .dataframe tbody tr th:only-of-type {\n",
       "        vertical-align: middle;\n",
       "    }\n",
       "\n",
       "    .dataframe tbody tr th {\n",
       "        vertical-align: top;\n",
       "    }\n",
       "\n",
       "    .dataframe thead th {\n",
       "        text-align: right;\n",
       "    }\n",
       "</style>\n",
       "<table border=\"1\" class=\"dataframe\">\n",
       "  <thead>\n",
       "    <tr style=\"text-align: right;\">\n",
       "      <th></th>\n",
       "      <th>bi_wo</th>\n",
       "      <th>bicounts_wo</th>\n",
       "    </tr>\n",
       "  </thead>\n",
       "  <tbody>\n",
       "    <tr>\n",
       "      <th>285</th>\n",
       "      <td>(great, product)</td>\n",
       "      <td>7087</td>\n",
       "    </tr>\n",
       "    <tr>\n",
       "      <th>70</th>\n",
       "      <td>(great, taste)</td>\n",
       "      <td>3441</td>\n",
       "    </tr>\n",
       "    <tr>\n",
       "      <th>1261</th>\n",
       "      <td>(great, coffee)</td>\n",
       "      <td>3180</td>\n",
       "    </tr>\n",
       "    <tr>\n",
       "      <th>369</th>\n",
       "      <td>(great, price)</td>\n",
       "      <td>3119</td>\n",
       "    </tr>\n",
       "    <tr>\n",
       "      <th>162</th>\n",
       "      <td>(dogs, love)</td>\n",
       "      <td>2876</td>\n",
       "    </tr>\n",
       "  </tbody>\n",
       "</table>\n",
       "</div>"
      ],
      "text/plain": [
       "                 bi_wo  bicounts_wo\n",
       "285   (great, product)         7087\n",
       "70      (great, taste)         3441\n",
       "1261   (great, coffee)         3180\n",
       "369     (great, price)         3119\n",
       "162       (dogs, love)         2876"
      ]
     },
     "execution_count": 41,
     "metadata": {},
     "output_type": "execute_result"
    }
   ],
   "source": [
    "bi_fd_wo = pd.DataFrame(list(bifq.items()), columns=['bi_wo', 'bicounts_wo'])\n",
    "bi_fd_wo.sort_values(by = 'bicounts_wo', inplace = True, ascending = False)\n",
    "\n",
    "bi_fd_wo.head(5)"
   ]
  },
  {
   "cell_type": "markdown",
   "metadata": {},
   "source": [
    "- Finally we may visualize the frenquency in a bar plot"
   ]
  },
  {
   "cell_type": "code",
   "execution_count": 42,
   "metadata": {
    "scrolled": false
   },
   "outputs": [
    {
     "data": {
      "image/png": "[encoded data removed]",
      "text/plain": [
       "<Figure size 720x360 with 2 Axes>"
      ]
     },
     "metadata": {
      "needs_background": "light"
     },
     "output_type": "display_data"
    }
   ],
   "source": [
    "fig, (ax1,ax2) = plt.subplots(1,2, sharey = False , figsize = (10,5))\n",
    "\n",
    "sns.barplot(x = fdist_wo['Words'][:10],\n",
    "            y = fdist_wo['Frequency'][:10], \n",
    "            palette='Blues_d',\n",
    "            ax = ax1, \n",
    "            label = 'high frequency words') \n",
    "\n",
    "sns.barplot(x = bi_fd_wo['bi_wo'][:10],\n",
    "            y =bi_fd_wo['bicounts_wo'][:10], \n",
    "            palette='Greens_d', \n",
    "            ax = ax2, \n",
    "            label = 'without stopwrods') \n",
    "\n",
    "ax1.set_xticklabels(ax1.xaxis.get_majorticklabels(), rotation=90)\n",
    "ax2.set_xticklabels(ax2.xaxis.get_majorticklabels(), rotation=90)\n",
    "\n",
    "\n",
    "ax1.legend(loc = 'upper right')\n",
    "ax2.legend(loc = 'upper right')\n",
    "\n",
    "plt.tight_layout()\n",
    "plt.show()"
   ]
  },
  {
   "cell_type": "markdown",
   "metadata": {},
   "source": [
    "- Check the distribution of the comments"
   ]
  },
  {
   "cell_type": "code",
   "execution_count": 79,
   "metadata": {},
   "outputs": [
    {
     "data": {
      "text/plain": [
       "0.2192867484971262"
      ]
     },
     "execution_count": 79,
     "metadata": {},
     "output_type": "execute_result"
    }
   ],
   "source": [
    "len(label[label == 0])/len(label)"
   ]
  },
  {
   "cell_type": "code",
   "execution_count": 86,
   "metadata": {},
   "outputs": [
    {
     "data": {
      "text/plain": [
       "<matplotlib.axes._subplots.AxesSubplot at 0x243dbf76a58>"
      ]
     },
     "execution_count": 86,
     "metadata": {},
     "output_type": "execute_result"
    },
    {
     "data": {
      "image/png": "[encoded data removed]",
      "text/plain": [
       "<Figure size 432x288 with 1 Axes>"
      ]
     },
     "metadata": {},
     "output_type": "display_data"
    }
   ],
   "source": [
    "label.value_counts().plot(kind = 'pie')"
   ]
  },
  {
   "cell_type": "markdown",
   "metadata": {},
   "source": [
    " - Here we can find the words has quite distinguishing characteristics, most of them contains signal words like \"good\" or \"great\" or \"best\". \n",
    " - Also, we can find the bigram model shows the heatest phrases contain positive comments from different aspects of the goods (e.g. \"great product\" is a general comment on the hole product; \"great taste\" is the positive comment on the taste; \"great price\" is the positive comment on the price of the goods.)\n",
    " - Finally, by checkingthe label, we find this is an imbalanced problem, which is worthy paying attention to when we construct the model. "
   ]
  },
  {
   "cell_type": "markdown",
   "metadata": {},
   "source": [
    "### 4.6 Construct the models"
   ]
  },
  {
   "cell_type": "markdown",
   "metadata": {},
   "source": [
    "- Define preprocessing functions"
   ]
  },
  {
   "cell_type": "code",
   "execution_count": 43,
   "metadata": {},
   "outputs": [],
   "source": [
    "def lemmatize_tokens(tokens, wnl = WordNetLemmatizer()):\n",
    "    lemmatized = []\n",
    "    for item in tokens:\n",
    "        lemmatized.append(wnl.lemmatize(item))\n",
    "    return lemmatized\n",
    "\n",
    "def tokenize(text):\n",
    "    tokens = nltk.word_tokenize(text)\n",
    "    tokens = [word for word in tokens if word not in stopwords.words('english')]\n",
    "    lemmatization = lemmatize_tokens(tokens)\n",
    "    return ' '.join(lemmatization)\n",
    "\n",
    "def build_corpus(dataset):\n",
    "    corpus = []\n",
    "    for text in dataset:\n",
    "        # without the decoding, there will be UnicodeDecodeError when tokenizing\n",
    "        corpus.append(tokenize(text))  \n",
    "    return corpus"
   ]
  },
  {
   "cell_type": "markdown",
   "metadata": {},
   "source": [
    " - Split training and testing set"
   ]
  },
  {
   "cell_type": "code",
   "execution_count": 44,
   "metadata": {},
   "outputs": [],
   "source": [
    "X = summary\n",
    "y = label"
   ]
  },
  {
   "cell_type": "code",
   "execution_count": 45,
   "metadata": {},
   "outputs": [],
   "source": [
    "seed = 2018\n",
    "X_train, X_test, y_train, y_test = train_test_split(X, y, test_size=0.2, random_state=seed)"
   ]
  },
  {
   "cell_type": "code",
   "execution_count": 46,
   "metadata": {},
   "outputs": [],
   "source": [
    "train_token = build_corpus(X_train)\n",
    "test_token = build_corpus(X_test)"
   ]
  },
  {
   "cell_type": "code",
   "execution_count": 47,
   "metadata": {},
   "outputs": [
    {
     "data": {
      "text/plain": [
       "['astringent sour',\n",
       " 'three cat love',\n",
       " '',\n",
       " 'pretty good decaf',\n",
       " 'taste great',\n",
       " 'fav',\n",
       " 'lemon heaven',\n",
       " 'best natural gum around imo',\n",
       " 'balsamic vinagrette dressing',\n",
       " 'good price quantity']"
      ]
     },
     "execution_count": 47,
     "metadata": {},
     "output_type": "execute_result"
    }
   ],
   "source": [
    "train_token[:10]"
   ]
  },
  {
   "cell_type": "markdown",
   "metadata": {},
   "source": [
    "- Vectorize the tokens"
   ]
  },
  {
   "cell_type": "code",
   "execution_count": 48,
   "metadata": {},
   "outputs": [],
   "source": [
    "tfidf_vec = TfidfVectorizer()"
   ]
  },
  {
   "cell_type": "code",
   "execution_count": 49,
   "metadata": {},
   "outputs": [],
   "source": [
    "X_train_tfidf_vec = tfidf_vec.fit_transform(train_token)\n",
    "X_test_tfidf_vec = tfidf_vec.transform(test_token)"
   ]
  },
  {
   "cell_type": "markdown",
   "metadata": {},
   "source": [
    " - Check the tfidf vector"
   ]
  },
  {
   "cell_type": "code",
   "execution_count": 50,
   "metadata": {},
   "outputs": [
    {
     "name": "stdout",
     "output_type": "stream",
     "text": [
      "The shape of X_train_tfidf is : (454728, 35419)\n",
      "Some words\n"
     ]
    }
   ],
   "source": [
    "print('The shape of X_train_tfidf is : {}'.format(X_train_tfidf_vec.shape))\n",
    "print('Some words as features in the space : {}'.format(tfidf_vec.get_feature_names())[:10])"
   ]
  },
  {
   "cell_type": "markdown",
   "metadata": {},
   "source": [
    " - Set all the trial models and hyperparameters"
   ]
  },
  {
   "cell_type": "code",
   "execution_count": 54,
   "metadata": {},
   "outputs": [],
   "source": [
    "models = {}\n",
    "\n",
    "models['lgr'] = LogisticRegression(\n",
    "    C=2.0,\n",
    "    solver = 'liblinear',\n",
    "    penalty = 'l1')\n",
    "\n",
    "models['svm'] = SVC(\n",
    "    kernel='linear', \n",
    "    C=2.0 )\n",
    "\n",
    "models['nb'] = MultinomialNB()\n",
    "\n",
    "models['xgb'] = xgb.XGBClassifier(\n",
    "    #learning_rate = 0.02,\n",
    "    n_estimators= 2000,\n",
    "    max_depth= 4,\n",
    "    min_child_weight= 2,\n",
    "    gamma=0.9,                        \n",
    "    subsample=0.8,\n",
    "    colsample_bytree=0.8,\n",
    "    objective= 'binary:logistic',\n",
    "    nthread= -1,\n",
    "    scale_pos_weight=1)"
   ]
  },
  {
   "cell_type": "markdown",
   "metadata": {},
   "source": [
    " - Train the model and test the performance"
   ]
  },
  {
   "cell_type": "code",
   "execution_count": 55,
   "metadata": {},
   "outputs": [],
   "source": [
    "results = pd.DataFrame(index = models.keys(), columns=['f1_score','precision_score','recall_score','auc'])\n",
    "\n",
    "for (clf_name, clf) in models.items():\n",
    "    clf.fit(X_train_tfidf_vec, y_train)\n",
    "    ypred = clf.predict(X_test_tfidf_vec)\n",
    "    f1score = metrics.f1_score(y_test, ypred)\n",
    "    precision = metrics.precision_score(y_test, ypred)\n",
    "    recall = metrics.recall_score(y_test, ypred)\n",
    "    auc = metrics.roc_auc_score(y_test, ypred)\n",
    "    results.loc[clf_name,:] = [f1score, precision, recall, auc]"
   ]
  },
  {
   "cell_type": "code",
   "execution_count": 56,
   "metadata": {
    "scrolled": true
   },
   "outputs": [
    {
     "data": {
      "text/html": [
       "<div>\n",
       "<style scoped>\n",
       "    .dataframe tbody tr th:only-of-type {\n",
       "        vertical-align: middle;\n",
       "    }\n",
       "\n",
       "    .dataframe tbody tr th {\n",
       "        vertical-align: top;\n",
       "    }\n",
       "\n",
       "    .dataframe thead th {\n",
       "        text-align: right;\n",
       "    }\n",
       "</style>\n",
       "<table border=\"1\" class=\"dataframe\">\n",
       "  <thead>\n",
       "    <tr style=\"text-align: right;\">\n",
       "      <th></th>\n",
       "      <th>f1_score</th>\n",
       "      <th>precision_score</th>\n",
       "      <th>recall_score</th>\n",
       "      <th>auc</th>\n",
       "    </tr>\n",
       "  </thead>\n",
       "  <tbody>\n",
       "    <tr>\n",
       "      <th>lgr</th>\n",
       "      <td>0.924806</td>\n",
       "      <td>0.892333</td>\n",
       "      <td>0.959733</td>\n",
       "      <td>0.773696</td>\n",
       "    </tr>\n",
       "    <tr>\n",
       "      <th>svm</th>\n",
       "      <td>0.922886</td>\n",
       "      <td>0.888668</td>\n",
       "      <td>0.959845</td>\n",
       "      <td>0.765829</td>\n",
       "    </tr>\n",
       "    <tr>\n",
       "      <th>nb</th>\n",
       "      <td>0.918757</td>\n",
       "      <td>0.869187</td>\n",
       "      <td>0.974323</td>\n",
       "      <td>0.726089</td>\n",
       "    </tr>\n",
       "    <tr>\n",
       "      <th>xgb</th>\n",
       "      <td>0.922353</td>\n",
       "      <td>0.873392</td>\n",
       "      <td>0.977129</td>\n",
       "      <td>0.736378</td>\n",
       "    </tr>\n",
       "  </tbody>\n",
       "</table>\n",
       "</div>"
      ],
      "text/plain": [
       "     f1_score precision_score recall_score       auc\n",
       "lgr  0.924806        0.892333     0.959733  0.773696\n",
       "svm  0.922886        0.888668     0.959845  0.765829\n",
       "nb   0.918757        0.869187     0.974323  0.726089\n",
       "xgb  0.922353        0.873392     0.977129  0.736378"
      ]
     },
     "execution_count": 56,
     "metadata": {},
     "output_type": "execute_result"
    }
   ],
   "source": [
    "results"
   ]
  }
 ],
 "metadata": {
  "kernelspec": {
   "display_name": "Python 3",
   "language": "python",
   "name": "python3"
  },
  "language_info": {
   "codemirror_mode": {
    "name": "ipython",
    "version": 3
   },
   "file_extension": ".py",
   "mimetype": "text/x-python",
   "name": "python",
   "nbconvert_exporter": "python",
   "pygments_lexer": "ipython3",
   "version": "3.7.0"
  }
 },
 "nbformat": 4,
 "nbformat_minor": 2
}
